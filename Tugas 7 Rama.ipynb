{
 "cells": [
  {
   "cell_type": "code",
   "execution_count": 1,
   "metadata": {},
   "outputs": [
    {
     "name": "stdout",
     "output_type": "stream",
     "text": [
      "Saya tidak akan mengulangi perbuatan itu lagi\n",
      "Saya tidak akan mengulangi perbuatan itu lagi\n",
      "Saya tidak akan mengulangi perbuatan itu lagi\n",
      "Saya tidak akan mengulangi perbuatan itu lagi\n",
      "Saya tidak akan mengulangi perbuatan itu lagi\n",
      "Saya tidak akan mengulangi perbuatan itu lagi\n",
      "Saya tidak akan mengulangi perbuatan itu lagi\n",
      "Saya tidak akan mengulangi perbuatan itu lagi\n",
      "Saya tidak akan mengulangi perbuatan itu lagi\n",
      "Saya tidak akan mengulangi perbuatan itu lagi\n",
      "Saya tidak akan mengulangi perbuatan itu lagi\n",
      "Saya tidak akan mengulangi perbuatan itu lagi\n",
      "Saya tidak akan mengulangi perbuatan itu lagi\n",
      "Saya tidak akan mengulangi perbuatan itu lagi\n",
      "Saya tidak akan mengulangi perbuatan itu lagi\n",
      "Saya tidak akan mengulangi perbuatan itu lagi\n",
      "Saya tidak akan mengulangi perbuatan itu lagi\n",
      "Saya tidak akan mengulangi perbuatan itu lagi\n",
      "Saya tidak akan mengulangi perbuatan itu lagi\n",
      "Saya tidak akan mengulangi perbuatan itu lagi\n",
      "Saya tidak akan mengulangi perbuatan itu lagi\n",
      "Saya tidak akan mengulangi perbuatan itu lagi\n",
      "Saya tidak akan mengulangi perbuatan itu lagi\n",
      "Saya tidak akan mengulangi perbuatan itu lagi\n",
      "Saya tidak akan mengulangi perbuatan itu lagi\n"
     ]
    }
   ],
   "source": [
    "a = 25\n",
    "\n",
    "for i in range (a) :\n",
    "    print (\"Saya tidak akan mengulangi perbuatan itu lagi\")"
   ]
  },
  {
   "cell_type": "code",
   "execution_count": 1,
   "metadata": {},
   "outputs": [],
   "source": [
    "x = 15\n",
    "\n",
    "while x> 10:\n",
    "    x -= 1\n",
    "    print = (\"jadi nilai x=\", x)"
   ]
  },
  {
   "cell_type": "code",
   "execution_count": 1,
   "metadata": {},
   "outputs": [
    {
     "name": "stdout",
     "output_type": "stream",
     "text": [
      "masukan bilagan: 7\n",
      "7 merupakan bilangan ganjil\n"
     ]
    }
   ],
   "source": [
    "angka = int(input(\"masukan bilagan: \"))\n",
    "\n",
    "if angka%2==0:\n",
    "    print(angka, \"merupakan bilangan genap\")\n",
    "else:\n",
    "    print(angka, \"merupakan bilangan ganjil\")"
   ]
  },
  {
   "cell_type": "code",
   "execution_count": 1,
   "metadata": {},
   "outputs": [
    {
     "name": "stdout",
     "output_type": "stream",
     "text": [
      "masukan bilangan: 13\n",
      "13 merupakan angka genap\n"
     ]
    }
   ],
   "source": [
    "angka = int(input(\"masukan bilangan: \"))\n",
    "\n",
    "def agenap():\n",
    "    print (angka, \"merupakan angka ganjil\")\n",
    "def agenap():\n",
    "    print (angka, \"merupakan angka genap\")\n",
    "    \n",
    "if angka&2==0:\n",
    "    agenap()\n",
    "else:\n",
    "    aganjil()"
   ]
  },
  {
   "cell_type": "code",
   "execution_count": null,
   "metadata": {},
   "outputs": [],
   "source": []
  }
 ],
 "metadata": {
  "kernelspec": {
   "display_name": "Python 3",
   "language": "python",
   "name": "python3"
  },
  "language_info": {
   "codemirror_mode": {
    "name": "ipython",
    "version": 3
   },
   "file_extension": ".py",
   "mimetype": "text/x-python",
   "name": "python",
   "nbconvert_exporter": "python",
   "pygments_lexer": "ipython3",
   "version": "3.8.3"
  }
 },
 "nbformat": 4,
 "nbformat_minor": 4
}
