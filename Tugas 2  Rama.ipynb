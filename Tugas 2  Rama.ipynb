{
 "cells": [
  {
   "cell_type": "code",
   "execution_count": 1,
   "metadata": {},
   "outputs": [
    {
     "name": "stdout",
     "output_type": "stream",
     "text": [
      "saya rama anandya putra, ingin membuat program menghitung balok =\n",
      "panjang = 5\n",
      "lebar = 7\n",
      "tinggi = 10\n",
      "sehingga volume balok = 350\n"
     ]
    }
   ],
   "source": [
    "#rama anandya putra\n",
    "print (\"saya rama anandya putra, ingin membuat program menghitung balok =\")\n",
    "p = 5\n",
    "l = 7\n",
    "t = 10\n",
    "v = p*l*t\n",
    "print(\"panjang =\", p)\n",
    "print(\"lebar =\", l)\n",
    "print(\"tinggi =\", t)\n",
    "print(\"sehingga volume balok =\", v)"
   ]
  },
  {
   "cell_type": "code",
   "execution_count": 2,
   "metadata": {},
   "outputs": [
    {
     "name": "stdout",
     "output_type": "stream",
     "text": [
      "menghitung luas lingkaran\n",
      "616.0\n"
     ]
    }
   ],
   "source": [
    "print (\"menghitung luas lingkaran\")\n",
    "phi = 22/7\n",
    "r = 14\n",
    "l = phi*r*r\n",
    "print (l)"
   ]
  },
  {
   "cell_type": "code",
   "execution_count": 3,
   "metadata": {},
   "outputs": [
    {
     "name": "stdout",
     "output_type": "stream",
     "text": [
      "saya suka programing\n"
     ]
    }
   ],
   "source": [
    "print (\"saya suka programing\")"
   ]
  },
  {
   "cell_type": "code",
   "execution_count": 4,
   "metadata": {},
   "outputs": [
    {
     "name": "stdout",
     "output_type": "stream",
     "text": [
      "saya suka programing\n",
      "saya suka programing\n",
      "saya suka programing\n",
      "saya suka programing\n",
      "saya suka programing\n"
     ]
    }
   ],
   "source": [
    "print (\"saya suka programing\")\n",
    "print (\"saya suka programing\")\n",
    "print (\"saya suka programing\")\n",
    "print (\"saya suka programing\")\n",
    "print (\"saya suka programing\")"
   ]
  },
  {
   "cell_type": "code",
   "execution_count": 5,
   "metadata": {},
   "outputs": [
    {
     "name": "stdout",
     "output_type": "stream",
     "text": [
      "saya rama anandya putra, IPK saya saat ini = 3.95\n"
     ]
    }
   ],
   "source": [
    "IPK = 3.95\n",
    "print (\"saya rama anandya putra, IPK saya saat ini =\", IPK)"
   ]
  },
  {
   "cell_type": "code",
   "execution_count": null,
   "metadata": {},
   "outputs": [],
   "source": []
  }
 ],
 "metadata": {
  "kernelspec": {
   "display_name": "Python 3",
   "language": "python",
   "name": "python3"
  },
  "language_info": {
   "codemirror_mode": {
    "name": "ipython",
    "version": 3
   },
   "file_extension": ".py",
   "mimetype": "text/x-python",
   "name": "python",
   "nbconvert_exporter": "python",
   "pygments_lexer": "ipython3",
   "version": "3.8.3"
  }
 },
 "nbformat": 4,
 "nbformat_minor": 4
}
